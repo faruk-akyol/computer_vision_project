{
 "cells": [
  {
   "cell_type": "code",
   "execution_count": 4,
   "id": "5cc62a6c",
   "metadata": {},
   "outputs": [
    {
     "name": "stdout",
     "output_type": "stream",
     "text": [
      "Number of existing image files: 30245\n"
     ]
    }
   ],
   "source": [
    "import pandas as pd\n",
    "import os\n",
    "\n",
    "# Path to your CSV file\n",
    "file_path = r\"C:\\Users\\faruk\\computer_vision_project\\poster_image_scores.csv\"\n",
    "\n",
    "# Read the CSV file\n",
    "df = pd.read_csv(file_path)\n",
    "\n",
    "# Replace backslashes with forward slashes in 'image path' column\n",
    "df['image_path'] = df['image_path'].str.replace('\\\\', '/', regex=False)\n",
    "\n",
    "# Remove rows with null or zero imdb score\n",
    "df_cleaned = df.dropna(subset=['imdb_score'])\n",
    "df_cleaned = df_cleaned[df_cleaned['imdb_score'] != 0]\n",
    "\n",
    "# Get base directory of CSV\n",
    "base_dir = os.path.dirname(file_path)\n",
    "\n",
    "# Function to check if the image file exists\n",
    "def file_exists(row):\n",
    "    image_full_path = os.path.join(base_dir, row['image_path'])\n",
    "    return os.path.exists(image_full_path)\n",
    "\n",
    "# Apply the function and add a new column\n",
    "df_cleaned['file_exists'] = df_cleaned.apply(file_exists, axis=1)\n",
    "\n",
    "# Count how many files exist\n",
    "existing_files_count = df_cleaned['file_exists'].sum()\n",
    "\n",
    "# Print the result\n",
    "print(f\"Number of existing image files: {existing_files_count}\")"
   ]
  },
  {
   "cell_type": "code",
   "execution_count": null,
   "id": "dc1da48b",
   "metadata": {},
   "outputs": [],
   "source": []
  },
  {
   "cell_type": "code",
   "execution_count": null,
   "id": "d31961bd",
   "metadata": {},
   "outputs": [],
   "source": []
  },
  {
   "cell_type": "code",
   "execution_count": null,
   "id": "dac2ceb8",
   "metadata": {},
   "outputs": [],
   "source": []
  }
 ],
 "metadata": {
  "kernelspec": {
   "display_name": "general_nlp",
   "language": "python",
   "name": "python3"
  },
  "language_info": {
   "codemirror_mode": {
    "name": "ipython",
    "version": 3
   },
   "file_extension": ".py",
   "mimetype": "text/x-python",
   "name": "python",
   "nbconvert_exporter": "python",
   "pygments_lexer": "ipython3",
   "version": "3.12.9"
  }
 },
 "nbformat": 4,
 "nbformat_minor": 5
}
