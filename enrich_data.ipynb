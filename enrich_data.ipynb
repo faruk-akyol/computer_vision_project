{
 "cells": [
  {
   "cell_type": "code",
   "execution_count": 14,
   "id": "6ed82460",
   "metadata": {},
   "outputs": [],
   "source": [
    "import pandas as pd"
   ]
  },
  {
   "cell_type": "code",
   "execution_count": 15,
   "id": "28e72ace",
   "metadata": {},
   "outputs": [],
   "source": [
    "basics = pd.read_csv(\"tsv_data/title.basics.tsv\", sep=\"\\t\", dtype=str, na_values=[\"\\\\N\"])\n",
    "ratings = pd.read_csv(\"tsv_data/title.ratings.tsv\", sep=\"\\t\", dtype=str, na_values=[\"\\\\N\"])"
   ]
  },
  {
   "cell_type": "code",
   "execution_count": 16,
   "id": "a01741cc",
   "metadata": {},
   "outputs": [],
   "source": [
    "ratings[\"averageRating\"] = ratings[\"averageRating\"].astype(float)\n",
    "ratings[\"numVotes\"] = ratings[\"numVotes\"].astype(int)\n",
    "basics = basics[basics[\"titleType\"] == \"movie\"]\n",
    "basics = basics[basics[\"startYear\"].notna()]\n",
    "basics[\"startYear\"] = basics[\"startYear\"].astype(int)"
   ]
  },
  {
   "cell_type": "code",
   "execution_count": 17,
   "id": "8b01f56b",
   "metadata": {},
   "outputs": [],
   "source": [
    "df = pd.merge(basics, ratings, on=\"tconst\")"
   ]
  },
  {
   "cell_type": "code",
   "execution_count": 18,
   "id": "851df955",
   "metadata": {},
   "outputs": [],
   "source": [
    "filtered = df[\n",
    "    ((df[\"averageRating\"] >= 7.8) | (df[\"averageRating\"] < 6.0)) &\n",
    "    (df['startYear'] >= 2000)\n",
    "]"
   ]
  },
  {
   "cell_type": "code",
   "execution_count": null,
   "id": "ecde453f",
   "metadata": {},
   "outputs": [
    {
     "name": "stdout",
     "output_type": "stream",
     "text": [
      "Balanced filtered movies CSV has been saved.\n"
     ]
    }
   ],
   "source": [
    "high_score = filtered[filtered[\"averageRating\"] >= 7.5]\n",
    "high_score_popular = high_score[high_score[\"numVotes\"] >= 10000]\n",
    "\n",
    "low_score = filtered[filtered[\"averageRating\"] < 6.0]\n",
    "low_score_popular = low_score[low_score[\"numVotes\"] >= 10000]\n",
    "\n",
    "low_score_popular_under_4 = low_score_popular[low_score_popular[\"averageRating\"] < 4.0]\n",
    "low_score_popular_above_4 = low_score_popular[low_score_popular[\"averageRating\"] >= 4.0]\n",
    "\n",
    "low_sample_under_4 = low_score_popular_under_4.sample(n=100, random_state=42)  \n",
    "low_sample_above_4 = low_score_popular_above_4.sample(n=400, random_state=42)  \n",
    "high_sample = high_score_popular.sample(n=500, random_state=42)\n",
    "balanced_df = pd.concat([high_sample, low_sample_under_4, low_sample_above_4]).sort_values(by=\"averageRating\", ascending=False).reset_index(drop=True)\n",
    "balanced_df.to_csv(\"balanced_filtered_movies.csv\", index=False)"
   ]
  },
  {
   "cell_type": "code",
   "execution_count": 21,
   "id": "b2414923",
   "metadata": {},
   "outputs": [
    {
     "data": {
      "text/plain": [
       "(1000, 11)"
      ]
     },
     "execution_count": 21,
     "metadata": {},
     "output_type": "execute_result"
    }
   ],
   "source": [
    "balanced_df.shape"
   ]
  }
 ],
 "metadata": {
  "kernelspec": {
   "display_name": "base",
   "language": "python",
   "name": "python3"
  },
  "language_info": {
   "codemirror_mode": {
    "name": "ipython",
    "version": 3
   },
   "file_extension": ".py",
   "mimetype": "text/x-python",
   "name": "python",
   "nbconvert_exporter": "python",
   "pygments_lexer": "ipython3",
   "version": "3.12.3"
  }
 },
 "nbformat": 4,
 "nbformat_minor": 5
}
